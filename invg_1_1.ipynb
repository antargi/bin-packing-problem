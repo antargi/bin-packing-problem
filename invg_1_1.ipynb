{
 "cells": [
  {
   "cell_type": "code",
   "execution_count": 1,
   "metadata": {},
   "outputs": [],
   "source": [
    "using JuMP\n",
    "using GLPK \n",
    "using Cbc"
   ]
  },
  {
   "cell_type": "code",
   "execution_count": 2,
   "metadata": {},
   "outputs": [
    {
     "data": {
      "text/plain": [
       "bin_packing_mip (generic function with 1 method)"
      ]
     },
     "execution_count": 2,
     "metadata": {},
     "output_type": "execute_result"
    }
   ],
   "source": [
    "function bin_packing_mip(items, bin_capacity)\n",
    "    model = Model(GLPK.Optimizer)\n",
    "    n = length(items)\n",
    "    max_bins = n  # En el peor de los casos, cada ítem puede ir en un contenedor separado\n",
    "    \n",
    "    # Variables\n",
    "    @variable(model, x[1:max_bins, 1:n], Bin)\n",
    "    @variable(model, y[1:max_bins], Bin)\n",
    "\n",
    "    # Restricciones\n",
    "    @constraint(model, [j=1:n], sum(x[i,j] for i in 1:max_bins) == 1)\n",
    "    @constraint(model, [i=1:max_bins], sum(x[i,j] * items[j] for j in 1:n) <= bin_capacity * y[i])\n",
    "\n",
    "    # Función objetivo\n",
    "    @objective(model, Min, sum(y))\n",
    "\n",
    "    optimize!(model)\n",
    "\n",
    "    println(\"Status: \", termination_status(model))\n",
    "    println(\"Objective value: \", objective_value(model))\n",
    "    println(\"Número de contenedores utilizados: \", sum(value.(y)))\n",
    "    \n",
    "    return value.(y)\n",
    "end"
   ]
  },
  {
   "cell_type": "code",
   "execution_count": 10,
   "metadata": {},
   "outputs": [
    {
     "name": "stdout",
     "output_type": "stream",
     "text": [
      "Status: OPTIMAL\n",
      "Objective value: 3.0\n",
      "Número de contenedores utilizados: 3.0\n",
      "Número de contenedores utilizados: 3.0\n"
     ]
    }
   ],
   "source": [
    "items = [5, 10, 15, 20, 25, 30, 5, 2, 3, 4, 5, 20, 30]  \n",
    "bin_capacity = 60 \n",
    "\n",
    "# Ejecutar el algoritmo\n",
    "num_bins_used = bin_packing_mip(items, bin_capacity)\n",
    "println(\"Número de contenedores utilizados: $(sum(num_bins_used))\")"
   ]
  },
  {
   "cell_type": "code",
   "execution_count": 4,
   "metadata": {},
   "outputs": [
    {
     "name": "stdout",
     "output_type": "stream",
     "text": [
      "Status: OPTIMAL\n",
      "Objective value: 2.0\n",
      "Número de contenedores utilizados: 2.0\n",
      "Número de contenedores utilizados: 2.0\n"
     ]
    }
   ],
   "source": [
    "items = [3,2,3,2,2,2]\n",
    "bin_capacity = 10 \n",
    "\n",
    "num_bins_used = bin_packing_mip(items, bin_capacity)\n",
    "println(\"Número de contenedores utilizados: $(sum(num_bins_used))\")"
   ]
  },
  {
   "cell_type": "code",
   "execution_count": 5,
   "metadata": {},
   "outputs": [
    {
     "name": "stdout",
     "output_type": "stream",
     "text": [
      "Status: OPTIMAL\n",
      "Objective value: 3.0\n",
      "Número de contenedores utilizados: 3.0\n",
      "Número de contenedores utilizados: 3.0\n"
     ]
    }
   ],
   "source": [
    "items = [2,5,4,7,1,3,8]\n",
    "bin_capacity = 10 \n",
    "\n",
    "num_bins_used = bin_packing_mip(items, bin_capacity)\n",
    "println(\"Número de contenedores utilizados: $(sum(num_bins_used))\")"
   ]
  },
  {
   "cell_type": "code",
   "execution_count": 11,
   "metadata": {},
   "outputs": [
    {
     "data": {
      "text/plain": [
       "bin_packing_cbc (generic function with 1 method)"
      ]
     },
     "execution_count": 11,
     "metadata": {},
     "output_type": "execute_result"
    }
   ],
   "source": [
    "function bin_packing_cbc(bin_capacity, items)\n",
    "    n = length(items)\n",
    "    max_bins = n  # En el peor de los casos, cada ítem puede ir en un contenedor separado\n",
    "    \n",
    "    model = Model(Cbc.Optimizer)\n",
    "    \n",
    "    # Variables\n",
    "    @variable(model, x[1:max_bins, 1:n], Bin)\n",
    "    @variable(model, y[1:max_bins], Bin)\n",
    "\n",
    "    # Restricciones\n",
    "    @constraint(model, [j=1:n], sum(x[i,j] for i in 1:max_bins) == 1)\n",
    "    @constraint(model, [i=1:max_bins], sum(x[i,j] * items[j] for j in 1:n) <= bin_capacity * y[i])\n",
    "\n",
    "    # Función objetivo\n",
    "    @objective(model, Min, sum(y))\n",
    "\n",
    "    set_optimizer_attribute(model, \"logLevel\", 0)  \n",
    "    \n",
    "    elapsed_time = @elapsed begin\n",
    "        optimize!(model)\n",
    "    end\n",
    "    \n",
    "    if termination_status(model) == MOI.INFEASIBLE\n",
    "        println(\"El problema no tiene solución factible.\")\n",
    "        return -1  # Otra forma de indicar que no se encontró solución\n",
    "    end\n",
    "    \n",
    "    num_bins_used = sum(value.(y))\n",
    "    \n",
    "    return num_bins_used, elapsed_time\n",
    "\n",
    "end"
   ]
  },
  {
   "cell_type": "code",
   "execution_count": 12,
   "metadata": {},
   "outputs": [
    {
     "data": {
      "text/plain": [
       "describe_problems (generic function with 1 method)"
      ]
     },
     "execution_count": 12,
     "metadata": {},
     "output_type": "execute_result"
    }
   ],
   "source": [
    "# Función para leer y describir todas las instancias de un archivo\n",
    "function describe_problems(problems)\n",
    "    for (problem_id, bin_capacity, num_items, best_known_solution, items) in problems\n",
    "        println(\"Resolviendo problema: $problem_id, con $num_items de items, se espera $best_known_solution, $items items\")\n",
    "    end\n",
    "    return problems\n",
    "end"
   ]
  },
  {
   "cell_type": "code",
   "execution_count": 13,
   "metadata": {},
   "outputs": [
    {
     "data": {
      "text/plain": [
       "solve_bin_packing_instances (generic function with 1 method)"
      ]
     },
     "execution_count": 13,
     "metadata": {},
     "output_type": "execute_result"
    }
   ],
   "source": [
    "function solve_bin_packing_instances(problems)\n",
    "    for (problem_id, bin_capacity, num_items, best_known_solution, items) in problems\n",
    "        println(\"Resolviendo problema: $problem_id, con $bin_capacity de capacidad y con $num_items de items, se espera solución óptima: $best_known_solution, $items\")\n",
    "        num_bins_used, time_taken = bin_packing_cbc(bin_capacity, items)\n",
    "        println(\"Número de contenedores utilizados: $num_bins_used\")\n",
    "        println(\"Tiempo tomado: $time_taken segundos\")\n",
    "        println()\n",
    "    end\n",
    "end"
   ]
  },
  {
   "cell_type": "code",
   "execution_count": 16,
   "metadata": {},
   "outputs": [
    {
     "data": {
      "text/plain": [
       "read_bin_packing_instance (generic function with 1 method)"
      ]
     },
     "execution_count": 16,
     "metadata": {},
     "output_type": "execute_result"
    }
   ],
   "source": [
    "# Función que permite leer las instancias de bin packing desde un archivo\n",
    "function read_bin_packing_instance(filename)\n",
    "    problems = []\n",
    "    open(filename, \"r\") do file\n",
    "        lines = readlines(file)\n",
    "        P = parse(Int, lines[1])  # Número de instancias de problemas\n",
    "        index = 2\n",
    "        for _ in 1:P\n",
    "            problem_id = strip(lines[index])\n",
    "            index += 1\n",
    "            bin_capacity, num_items, best_known_solution = split(lines[index])\n",
    "            bin_capacity = parse(Float64, bin_capacity)\n",
    "            num_items = parse(Int, num_items)\n",
    "            best_known_solution = parse(Int, best_known_solution)\n",
    "            index += 1\n",
    "            items = []\n",
    "            for _ in 1:num_items\n",
    "                push!(items, parse(Float64, strip(lines[index])))\n",
    "                index += 1\n",
    "            end\n",
    "            push!(problems, (problem_id, bin_capacity, num_items, best_known_solution, items))\n",
    "        end\n",
    "    end\n",
    "    return problems\n",
    "end"
   ]
  },
  {
   "cell_type": "code",
   "execution_count": 17,
   "metadata": {},
   "outputs": [
    {
     "name": "stdout",
     "output_type": "stream",
     "text": [
      "Resolviendo problema: uniform1, con 150.0 de capacidad y con 10 de items, se espera solución óptima: 2, Any[20.0, 20.0, 20.0, 20.0, 20.0, 20.0, 20.0, 20.0, 20.0, 20.0]\n",
      "Número de contenedores utilizados: 2.0\n",
      "Tiempo tomado: 2.455860081 segundos\n",
      "\n",
      "Resolviendo problema: uniform2, con 100.0 de capacidad y con 8 de items, se espera solución óptima: 2, Any[10.0, 20.0, 30.0, 10.0, 20.0, 30.0, 10.0, 20.0]\n",
      "Número de contenedores utilizados: 2.0\n",
      "Tiempo tomado: 0.003913505 segundos\n",
      "\n",
      "Resolviendo problema: uniform3, con 120.0 de capacidad y con 6 de items, se espera solución óptima: 2, Any[15.0, 25.0, 20.0, 30.0, 25.0, 20.0]\n",
      "Número de contenedores utilizados: 2.0\n",
      "Tiempo tomado: 0.003535943 segundos\n",
      "\n",
      "Resolviendo problema: uniform4, con 100.0 de capacidad y con 10 de items, se espera solución óptima: 4, Any[20.0, 20.0, 30.0, 40.0, 10.0, 30.0, 25.0, 25.0, 20.0, 20.0]\n",
      "Número de contenedores utilizados: 3.0\n",
      "Tiempo tomado: 0.005798706 segundos\n",
      "\n",
      "Resolviendo problema: uniform5, con 80.0 de capacidad y con 12 de items, se espera solución óptima: 3, Any[15.0, 25.0, 20.0, 30.0, 25.0, 20.0, 20.0, 15.0, 25.0, 10.0, 30.0, 20.0]\n",
      "Número de contenedores utilizados: 4.0\n",
      "Tiempo tomado: 0.005491163 segundos\n",
      "\n",
      "Resolviendo problema: uniform6, con 180.0 de capacidad y con 8 de items, se espera solución óptima: 5, Any[20.0, 30.0, 40.0, 10.0, 20.0, 30.0, 25.0, 5.0]\n",
      "Número de contenedores utilizados: 1.0\n",
      "Tiempo tomado: 0.014972105 segundos\n",
      "\n"
     ]
    }
   ],
   "source": [
    "problems = read_bin_packing_instance(\"./instances/uniform.txt\")\n",
    "solve_bin_packing_instances(problems)\n"
   ]
  },
  {
   "cell_type": "code",
   "execution_count": 18,
   "metadata": {},
   "outputs": [
    {
     "name": "stdout",
     "output_type": "stream",
     "text": [
      "Resolviendo problema: uniform1_2, con 300.0 de capacidad y con 20 de items, se espera solución óptima: 2, Any[20.0, 20.0, 20.0, 20.0, 20.0, 20.0, 20.0, 20.0, 20.0, 20.0, 10.0, 10.0, 10.0, 10.0, 10.0, 10.0, 10.0, 10.0, 10.0, 10.0]\n",
      "Número de contenedores utilizados: 1.0\n",
      "Tiempo tomado: 0.072178513 segundos\n",
      "\n",
      "Resolviendo problema: uniform2_2, con 180.0 de capacidad y con 20 de items, se espera solución óptima: 5, Any[20.0, 20.0, 20.0, 20.0, 20.0, 20.0, 20.0, 20.0, 20.0, 20.0, 10.0, 10.0, 10.0, 10.0, 10.0, 10.0, 10.0, 10.0, 10.0, 10.0]\n",
      "Número de contenedores utilizados: 2.0\n",
      "Tiempo tomado: 0.105916749 segundos\n",
      "\n",
      "Resolviendo problema: uniform3_2, con 150.0 de capacidad y con 20 de items, se espera solución óptima: 5, Any[20.0, 20.0, 20.0, 20.0, 20.0, 20.0, 20.0, 20.0, 20.0, 20.0, 10.0, 10.0, 10.0, 10.0, 10.0, 10.0, 10.0, 10.0, 10.0, 10.0]\n",
      "Número de contenedores utilizados: 2.0\n",
      "Tiempo tomado: 0.137844219 segundos\n",
      "\n",
      "Resolviendo problema: uniform4_2, con 120.0 de capacidad y con 20 de items, se espera solución óptima: 5, Any[20.0, 20.0, 20.0, 20.0, 20.0, 20.0, 20.0, 20.0, 20.0, 20.0, 10.0, 10.0, 10.0, 10.0, 10.0, 10.0, 10.0, 10.0, 10.0, 10.0]\n",
      "Número de contenedores utilizados: 3.0\n",
      "Tiempo tomado: 0.037267772 segundos\n",
      "\n",
      "Resolviendo problema: uniform5_2, con 100.0 de capacidad y con 20 de items, se espera solución óptima: 5, Any[20.0, 20.0, 20.0, 20.0, 20.0, 20.0, 20.0, 20.0, 20.0, 20.0, 10.0, 10.0, 10.0, 10.0, 10.0, 10.0, 10.0, 10.0, 10.0, 10.0]\n",
      "Número de contenedores utilizados: 3.0\n",
      "Tiempo tomado: 0.032216806 segundos\n",
      "\n",
      "Resolviendo problema: uniform6_2, con 80.0 de capacidad y con 20 de items, se espera solución óptima: 5, Any[20.0, 20.0, 20.0, 20.0, 20.0, 20.0, 20.0, 20.0, 20.0, 20.0, 10.0, 10.0, 10.0, 10.0, 10.0, 10.0, 10.0, 10.0, 10.0, 10.0]\n",
      "Número de contenedores utilizados: 4.0\n",
      "Tiempo tomado: 0.047745474 segundos\n",
      "\n",
      "Resolviendo problema: uniform7_2, con 50.0 de capacidad y con 20 de items, se espera solución óptima: 5, Any[20.0, 20.0, 20.0, 20.0, 20.0, 20.0, 20.0, 20.0, 20.0, 20.0, 10.0, 10.0, 10.0, 10.0, 10.0, 10.0, 10.0, 10.0, 10.0, 10.0]\n",
      "Número de contenedores utilizados: 6.0\n",
      "Tiempo tomado: 0.033600029 segundos\n",
      "\n",
      "Resolviendo problema: uniform8_2, con 30.0 de capacidad y con 20 de items, se espera solución óptima: 5, Any[20.0, 20.0, 20.0, 20.0, 20.0, 20.0, 20.0, 20.0, 20.0, 20.0, 10.0, 10.0, 10.0, 10.0, 10.0, 10.0, 10.0, 10.0, 10.0, 10.0]\n",
      "Número de contenedores utilizados: 10.0\n",
      "Tiempo tomado: 0.174432982 segundos\n",
      "\n"
     ]
    }
   ],
   "source": [
    "problems = read_bin_packing_instance(\"./instances/uniform2.txt\")\n",
    "solve_bin_packing_instances(problems)"
   ]
  },
  {
   "cell_type": "code",
   "execution_count": null,
   "metadata": {},
   "outputs": [
    {
     "name": "stdout",
     "output_type": "stream",
     "text": [
      "[\"2\", \" triplet1\", \" 100.0 9 3\", \"25.0\", \"25.0\", \"25.0\", \"20.0\", \"20.0\", \"20.0\", \"15.0\", \"15.0\", \"10.0\", \" triplet2\", \" 80.0 6 2\", \"25.0\", \"25.0\", \"15.0\", \"20.0\", \"20.0\", \"10.0\"]triplet1triplet2Resolviendo problema: triplet1, con 100.0 de capacidad y con 9 de items, se espera solución óptima: 3, Any[25.0, 25.0, 25.0, 20.0, 20.0, 20.0, 15.0, 15.0, 10.0]\n",
      "Número de contenedores utilizados: 2.0\n",
      "Tiempo tomado: 0.004832307 segundos\n",
      "\n",
      "Resolviendo problema: triplet2, con 80.0 de capacidad y con 6 de items, se espera solución óptima: 2, Any[25.0, 25.0, 15.0, 20.0, 20.0, 10.0]\n",
      "Número de contenedores utilizados: 2.0\n",
      "Tiempo tomado: 0.004461111 segundos\n",
      "\n"
     ]
    }
   ],
   "source": [
    "problems = read_bin_packing_instance(\"./instances/triplets.txt\")\n",
    "solve_bin_packing_instances(problems)"
   ]
  },
  {
   "cell_type": "code",
   "execution_count": null,
   "metadata": {},
   "outputs": [],
   "source": [
    "problems = read_bin_packing_instance(\"./instances/triplets2.txt\")\n",
    "solve_bin_packing_instances(problems)"
   ]
  }
 ],
 "metadata": {
  "kernelspec": {
   "display_name": "Julia 1.10.2",
   "language": "julia",
   "name": "julia-1.10"
  },
  "language_info": {
   "file_extension": ".jl",
   "mimetype": "application/julia",
   "name": "julia",
   "version": "1.10.2"
  }
 },
 "nbformat": 4,
 "nbformat_minor": 2
}
