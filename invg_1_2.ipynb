{
 "cells": [
  {
   "cell_type": "code",
   "execution_count": 1,
   "metadata": {},
   "outputs": [
    {
     "name": "stderr",
     "output_type": "stream",
     "text": [
      "\u001b[33m\u001b[1m┌ \u001b[22m\u001b[39m\u001b[33m\u001b[1mWarning: \u001b[22m\u001b[39mattempting to remove probably stale pidfile\n",
      "\u001b[33m\u001b[1m│ \u001b[22m\u001b[39m  path = \"/Users/antoarriagada/.julia/registries/.pid\"\n",
      "\u001b[33m\u001b[1m└ \u001b[22m\u001b[39m\u001b[90m@ FileWatching.Pidfile ~/.julia/juliaup/julia-1.10.2+0.x64.apple.darwin14/share/julia/stdlib/v1.10/FileWatching/src/pidfile.jl:273\u001b[39m\n",
      "\u001b[32m\u001b[1m    Updating\u001b[22m\u001b[39m registry at `~/.julia/registries/General.toml`\n",
      "\u001b[32m\u001b[1m   Resolving\u001b[22m\u001b[39m package versions...\n",
      "\u001b[32m\u001b[1m   Installed\u001b[22m\u001b[39m Clp_jll ──────── v100.1700.700+1\n",
      "\u001b[32m\u001b[1m   Installed\u001b[22m\u001b[39m OpenBLAS32_jll ─ v0.3.24+0\n",
      "\u001b[32m\u001b[1m   Installed\u001b[22m\u001b[39m Cgl_jll ──────── v0.6000.600+0\n",
      "\u001b[32m\u001b[1m   Installed\u001b[22m\u001b[39m Cbc_jll ──────── v200.1000.800+0\n",
      "\u001b[32m\u001b[1m   Installed\u001b[22m\u001b[39m CoinUtils_jll ── v200.1100.600+0\n",
      "\u001b[32m\u001b[1m   Installed\u001b[22m\u001b[39m Osi_jll ──────── v0.10800.700+0\n",
      "\u001b[32m\u001b[1m   Installed\u001b[22m\u001b[39m Cbc ──────────── v1.2.0\n",
      "\u001b[32m\u001b[1m   Installed\u001b[22m\u001b[39m ASL_jll ──────── v0.1.3+0\n",
      "\u001b[32m\u001b[1m   Installed\u001b[22m\u001b[39m METIS_jll ────── v5.1.2+0\n",
      "\u001b[32m\u001b[1m   Installed\u001b[22m\u001b[39m MUMPS_seq_jll ── v500.600.201+0\n",
      "\u001b[32m\u001b[1m    Updating\u001b[22m\u001b[39m `~/.julia/environments/v1.10/Project.toml`\n",
      "  \u001b[90m[9961bab8] \u001b[39m\u001b[92m+ Cbc v1.2.0\u001b[39m\n",
      "\u001b[32m\u001b[1m    Updating\u001b[22m\u001b[39m `~/.julia/environments/v1.10/Manifest.toml`\n",
      "  \u001b[90m[9961bab8] \u001b[39m\u001b[92m+ Cbc v1.2.0\u001b[39m\n",
      "  \u001b[90m[ae81ac8f] \u001b[39m\u001b[92m+ ASL_jll v0.1.3+0\u001b[39m\n",
      "  \u001b[90m[38041ee0] \u001b[39m\u001b[92m+ Cbc_jll v200.1000.800+0\u001b[39m\n",
      "  \u001b[90m[3830e938] \u001b[39m\u001b[92m+ Cgl_jll v0.6000.600+0\u001b[39m\n",
      "  \u001b[90m[06985876] \u001b[39m\u001b[92m+ Clp_jll v100.1700.700+1\u001b[39m\n",
      "  \u001b[90m[be027038] \u001b[39m\u001b[92m+ CoinUtils_jll v200.1100.600+0\u001b[39m\n",
      "  \u001b[90m[d00139f3] \u001b[39m\u001b[92m+ METIS_jll v5.1.2+0\u001b[39m\n",
      "  \u001b[90m[d7ed1dd3] \u001b[39m\u001b[92m+ MUMPS_seq_jll v500.600.201+0\u001b[39m\n",
      "\u001b[33m⌅\u001b[39m \u001b[90m[656ef2d0] \u001b[39m\u001b[92m+ OpenBLAS32_jll v0.3.24+0\u001b[39m\n",
      "  \u001b[90m[7da25872] \u001b[39m\u001b[92m+ Osi_jll v0.10800.700+0\u001b[39m\n",
      "\u001b[36m\u001b[1m        Info\u001b[22m\u001b[39m Packages marked with \u001b[33m⌅\u001b[39m have new versions available but compatibility constraints restrict them from upgrading. To see why use `status --outdated -m`\n",
      "\u001b[32m\u001b[1mPrecompiling\u001b[22m\u001b[39m project...\n",
      "\u001b[32m  ✓ \u001b[39m\u001b[90mASL_jll\u001b[39m\n",
      "\u001b[32m  ✓ \u001b[39m\u001b[90mOpenBLAS32_jll\u001b[39m\n",
      "\u001b[32m  ✓ \u001b[39m\u001b[90mMETIS_jll\u001b[39m\n",
      "\u001b[32m  ✓ \u001b[39m\u001b[90mCoinUtils_jll\u001b[39m\n",
      "\u001b[32m  ✓ \u001b[39m\u001b[90mMUMPS_seq_jll\u001b[39m\n",
      "\u001b[32m  ✓ \u001b[39m\u001b[90mOsi_jll\u001b[39m\n",
      "\u001b[32m  ✓ \u001b[39m\u001b[90mClp_jll\u001b[39m\n",
      "\u001b[32m  ✓ \u001b[39m\u001b[90mCgl_jll\u001b[39m\n",
      "\u001b[32m  ✓ \u001b[39m\u001b[90mCbc_jll\u001b[39m\n",
      "\u001b[32m  ✓ \u001b[39mCbc\n",
      "  10 dependencies successfully precompiled in 8 seconds. 48 already precompiled. 1 skipped during auto due to previous errors.\n"
     ]
    }
   ],
   "source": [
    "# Instalar si no se tiene el paquete, de lo contrario comentar\n",
    "import Pkg; Pkg.add(\"Cbc\")"
   ]
  },
  {
   "cell_type": "code",
   "execution_count": 2,
   "metadata": {},
   "outputs": [],
   "source": [
    "using JuMP\n",
    "using GLPK \n",
    "using Cbc"
   ]
  },
  {
   "cell_type": "code",
   "execution_count": 8,
   "metadata": {},
   "outputs": [
    {
     "data": {
      "text/plain": [
       "read_bin_packing_instance (generic function with 1 method)"
      ]
     },
     "execution_count": 8,
     "metadata": {},
     "output_type": "execute_result"
    }
   ],
   "source": [
    "# Función que permite leer las instancias de bin packing desde un archivo\n",
    "function read_bin_packing_instance(filename)\n",
    "    problems = []\n",
    "    open(filename, \"r\") do file\n",
    "        lines = readlines(file)\n",
    "        P = parse(Int, lines[1])  # Número de instancias de problemas\n",
    "        index = 2\n",
    "        for _ in 1:P\n",
    "            problem_id = strip(lines[index])\n",
    "            index += 1\n",
    "            bin_capacity, num_items, best_known_solution = split(lines[index])\n",
    "            bin_capacity = parse(Float64, bin_capacity)\n",
    "            num_items = parse(Int, num_items)\n",
    "            best_known_solution = parse(Int, best_known_solution)\n",
    "            index += 1\n",
    "            items = []\n",
    "            for _ in 1:num_items\n",
    "                push!(items, parse(Float64, strip(lines[index])))\n",
    "                index += 1\n",
    "            end\n",
    "            push!(problems, (problem_id, bin_capacity, num_items, best_known_solution, items))\n",
    "        end\n",
    "    end\n",
    "    return problems\n",
    "end"
   ]
  },
  {
   "cell_type": "code",
   "execution_count": 4,
   "metadata": {},
   "outputs": [
    {
     "data": {
      "text/plain": [
       "bin_packing_glpk (generic function with 1 method)"
      ]
     },
     "execution_count": 4,
     "metadata": {},
     "output_type": "execute_result"
    }
   ],
   "source": [
    "function bin_packing_glpk(bin_capacity, items)\n",
    "    n = length(items)\n",
    "    max_bins = n  # En el peor de los casos, cada ítem puede ir en un contenedor separado\n",
    "    \n",
    "    model = Model(GLPK.Optimizer)\n",
    "    \n",
    "    # Variables\n",
    "    @variable(model, x[1:max_bins, 1:n], Bin)\n",
    "    @variable(model, y[1:max_bins], Bin)\n",
    "\n",
    "    # Restricciones\n",
    "    @constraint(model, [j=1:n], sum(x[i,j] for i in 1:max_bins) == 1)\n",
    "    @constraint(model, [i=1:max_bins], sum(x[i,j] * items[j] for j in 1:n) <= bin_capacity * y[i])\n",
    "\n",
    "    # Función objetivo\n",
    "    @objective(model, Min, sum(y))\n",
    "\n",
    "    optimize!(model)\n",
    "    \n",
    "    println(\"Status: \", termination_status(model))\n",
    "    println(\"Objective value: \", objective_value(model))\n",
    "    println(\"Número de contenedores utilizados: \", sum(value.(y)))\n",
    "    \n",
    "    return value.(y)\n",
    "end"
   ]
  },
  {
   "cell_type": "code",
   "execution_count": 5,
   "metadata": {},
   "outputs": [
    {
     "data": {
      "text/plain": [
       "bin_packing_cbc (generic function with 1 method)"
      ]
     },
     "execution_count": 5,
     "metadata": {},
     "output_type": "execute_result"
    }
   ],
   "source": [
    "# Función para resolver el problema de bin packing con CBC\n",
    "function bin_packing_cbc(bin_capacity, items)\n",
    "    n = length(items)\n",
    "    max_bins = n  # En el peor de los casos, cada ítem puede ir en un contenedor separado\n",
    "    \n",
    "    model = Model(Cbc.Optimizer)\n",
    "    \n",
    "    # Variables\n",
    "    @variable(model, x[1:max_bins, 1:n], Bin)\n",
    "    @variable(model, y[1:max_bins], Bin)\n",
    "\n",
    "    # Restricciones\n",
    "    @constraint(model, [j=1:n], sum(x[i,j] for i in 1:max_bins) == 1)\n",
    "    @constraint(model, [i=1:max_bins], sum(x[i,j] * items[j] for j in 1:n) <= bin_capacity * y[i])\n",
    "\n",
    "    # Función objetivo\n",
    "    @objective(model, Min, sum(y))\n",
    "\n",
    "    # Resolver el modelo\n",
    "    optimize!(model)\n",
    "    \n",
    "    # Obtener número de contenedores utilizados\n",
    "    num_bins_used = sum(value.(y))\n",
    "    \n",
    "    return num_bins_used\n",
    "end\n"
   ]
  },
  {
   "cell_type": "code",
   "execution_count": null,
   "metadata": {},
   "outputs": [
    {
     "data": {
      "text/plain": [
       "describe_problems (generic function with 1 method)"
      ]
     },
     "execution_count": 6,
     "metadata": {},
     "output_type": "execute_result"
    }
   ],
   "source": [
    "# Función para leer y describir todas las instancias de un archivo\n",
    "function describe_problems(problems)\n",
    "    for (problem_id, bin_capacity, num_items, best_known_solution, items) in problems\n",
    "        println(\"Resolviendo problema: $problem_id, con $num_items de items, se espera $best_known_solution, $items items\")\n",
    "    end\n",
    "    return problems\n",
    "end"
   ]
  },
  {
   "cell_type": "code",
   "execution_count": 9,
   "metadata": {},
   "outputs": [
    {
     "name": "stdout",
     "output_type": "stream",
     "text": [
      "Resolviendo problema: t60_00, con 60 de items, se espera 20, Any[36.6, 26.8, 36.6, 43.0, 26.3, 30.7, 41.4, 28.7, 29.9, 49.5, 25.1, 25.4, 47.4, 25.2, 27.4, 37.0, 26.9, 36.1, 47.3, 25.2, 27.5, 47.2, 25.9, 26.9, 44.4, 25.8, 29.8, 43.9, 27.3, 28.8, 44.5, 27.2, 28.3, 41.9, 26.1, 32.0, 36.3, 27.1, 36.6, 35.5, 27.3, 37.2, 46.6, 26.2, 27.2, 35.7, 29.2, 35.1, 39.5, 25.5, 35.0, 35.0, 30.3, 34.7, 45.0, 25.2, 29.8, 41.0, 27.5, 31.5] items\n",
      "Resolviendo problema: t60_01, con 60 de items, se espera 20, Any[47.5, 25.6, 26.9, 39.6, 26.4, 34.0, 46.8, 26.2, 27.0, 36.1, 30.0, 33.9, 44.4, 25.1, 30.5, 36.6, 25.2, 38.2, 40.9, 27.7, 31.4, 46.5, 26.0, 27.5, 44.7, 25.1, 30.2, 39.9, 29.7, 30.4, 42.3, 25.8, 31.9, 47.3, 26.0, 26.7, 42.6, 26.1, 31.3, 40.3, 28.9, 30.8, 40.2, 26.5, 33.3, 39.6, 25.7, 34.7, 41.1, 28.2, 30.7, 46.2, 25.8, 28.0, 41.2, 25.4, 33.4, 37.6, 25.5, 36.9] items\n",
      "Resolviendo problema: t60_02, con 60 de items, se espera 20, Any[49.4, 25.0, 25.6, 42.9, 26.6, 30.5, 37.8, 26.8, 35.4, 48.2, 25.1, 26.7, 46.4, 25.9, 27.7, 39.8, 27.6, 32.6, 39.0, 26.0, 35.0, 48.2, 25.1, 26.7, 43.0, 26.2, 30.8, 40.0, 26.1, 33.9, 49.8, 25.0, 25.2, 36.2, 28.8, 35.0, 49.8, 25.0, 25.2, 45.9, 26.0, 28.1, 40.1, 27.1, 32.8, 36.7, 28.8, 34.5, 35.2, 27.9, 36.9, 47.6, 26.1, 26.3, 47.9, 25.4, 26.7, 43.6, 28.0, 28.4] items\n",
      "Resolviendo problema: t60_03, con 60 de items, se espera 20, Any[37.8, 27.5, 34.7, 46.2, 26.1, 27.7, 42.9, 27.3, 29.8, 49.5, 25.0, 25.5, 37.1, 26.2, 36.7, 39.1, 29.3, 31.6, 49.3, 25.2, 25.5, 40.5, 25.0, 34.5, 46.1, 25.8, 28.1, 47.8, 25.7, 26.5, 35.4, 27.8, 36.8, 45.1, 25.6, 29.3, 48.5, 25.4, 26.1, 47.7, 25.8, 26.5, 36.9, 27.0, 36.1, 37.5, 26.8, 35.7, 41.4, 25.4, 33.2, 45.9, 26.3, 27.8, 45.6, 26.3, 28.1, 42.6, 27.7, 29.7] items\n",
      "Resolviendo problema: t60_04, con 60 de items, se espera 20, Any[37.9, 29.3, 32.8, 47.0, 25.1, 27.9, 41.1, 25.3, 33.6, 41.4, 27.6, 31.0, 41.8, 28.6, 29.6, 37.8, 29.6, 32.6, 42.8, 28.1, 29.1, 45.5, 26.4, 28.1, 49.4, 25.2, 25.4, 47.8, 25.8, 26.4, 40.9, 28.7, 30.4, 42.5, 25.6, 31.9, 40.2, 25.2, 34.6, 40.3, 28.3, 31.4, 40.1, 28.4, 31.5, 43.4, 28.2, 28.4, 49.6, 25.1, 25.3, 49.1, 25.3, 25.6, 49.8, 25.0, 25.2, 37.9, 26.4, 35.7] items\n",
      "Resolviendo problema: t60_05, con 60 de items, se espera 20, Any[49.6, 25.0, 25.4, 39.6, 27.0, 33.4, 48.3, 25.2, 26.5, 46.3, 26.1, 27.6, 38.9, 28.3, 32.8, 38.0, 26.8, 35.2, 41.6, 28.2, 30.2, 38.8, 25.2, 36.0, 48.9, 25.2, 25.9, 43.3, 28.1, 28.6, 38.0, 28.5, 33.5, 37.2, 30.1, 32.7, 37.2, 28.1, 34.7, 35.5, 30.5, 34.0, 43.2, 27.8, 29.0, 46.2, 26.2, 27.6, 48.4, 25.2, 26.4, 42.2, 28.2, 29.6, 46.9, 26.2, 26.9, 35.8, 28.1, 36.1] items\n",
      "Resolviendo problema: t60_06, con 60 de items, se espera 20, Any[40.3, 28.7, 31.0, 42.7, 28.1, 29.2, 45.1, 26.5, 28.4, 45.0, 25.0, 30.0, 40.0, 27.8, 32.2, 37.4, 26.1, 36.5, 38.0, 27.6, 34.4, 46.4, 25.2, 28.4, 39.4, 26.9, 33.7, 37.5, 29.7, 32.8, 49.8, 25.0, 25.2, 37.4, 30.4, 32.2, 35.5, 27.6, 36.9, 48.5, 25.3, 26.2, 35.7, 27.5, 36.8, 42.4, 25.9, 31.7, 47.1, 25.0, 27.9, 38.8, 27.3, 33.9, 44.9, 27.5, 27.6, 40.5, 27.4, 32.1] items\n",
      "Resolviendo problema: t60_07, con 60 de items, se espera 20, Any[48.0, 25.6, 26.4, 37.3, 29.7, 33.0, 41.2, 28.1, 30.7, 39.2, 28.6, 32.2, 43.2, 26.5, 30.3, 47.8, 25.5, 26.7, 40.6, 26.8, 32.6, 36.5, 25.5, 38.0, 40.7, 27.9, 31.4, 37.8, 29.3, 32.9, 36.2, 27.3, 36.5, 48.7, 25.2, 26.1, 42.2, 26.0, 31.8, 41.0, 26.6, 32.4, 41.0, 26.3, 32.7, 37.0, 26.0, 37.0, 45.4, 25.0, 29.6, 36.6, 28.1, 35.3, 47.6, 26.0, 26.4, 46.5, 25.6, 27.9] items\n",
      "Resolviendo problema: t60_08, con 60 de items, se espera 20, Any[48.5, 25.6, 25.9, 49.1, 25.1, 25.8, 35.3, 31.2, 33.5, 49.8, 25.0, 25.2, 36.1, 29.3, 34.6, 37.8, 25.2, 37.0, 45.1, 25.6, 29.3, 43.9, 26.9, 29.2, 45.3, 26.3, 28.4, 39.8, 25.9, 34.3, 39.1, 25.5, 35.4, 46.2, 25.2, 28.6, 36.3, 25.4, 38.3, 38.1, 27.8, 34.1, 45.4, 25.1, 29.5, 35.6, 28.3, 36.1, 45.3, 27.2, 27.5, 35.7, 27.5, 36.8, 46.8, 25.0, 28.2, 35.2, 28.0, 36.8] items\n",
      "Resolviendo problema: t60_09, con 60 de items, se espera 20, Any[35.1, 25.8, 39.1, 35.9, 25.9, 38.2, 37.6, 30.8, 31.6, 44.5, 27.5, 28.0, 42.6, 27.6, 29.8, 46.8, 25.9, 27.3, 45.3, 25.8, 28.9, 44.3, 25.3, 30.4, 38.0, 26.1, 35.9, 37.7, 30.4, 31.9, 48.3, 25.4, 26.3, 45.1, 26.1, 28.8, 37.3, 26.3, 36.4, 41.7, 27.6, 30.7, 36.3, 29.4, 34.3, 44.2, 25.4, 30.4, 41.2, 25.6, 33.2, 36.9, 26.2, 36.9, 42.9, 25.2, 31.9, 39.7, 26.6, 33.7] items\n",
      "Resolviendo problema: t60_10, con 60 de items, se espera 20, Any[40.0, 27.7, 32.3, 41.9, 28.0, 30.1, 38.8, 25.7, 35.5, 39.8, 25.1, 35.1, 42.3, 25.7, 32.0, 35.7, 26.0, 38.3, 42.4, 26.6, 31.0, 44.8, 26.8, 28.4, 41.7, 25.1, 33.2, 36.6, 29.9, 33.5, 36.0, 31.8, 32.2, 44.1, 27.4, 28.5, 47.8, 25.7, 26.5, 46.4, 26.5, 27.1, 42.8, 28.0, 29.2, 47.2, 25.0, 27.8, 49.1, 25.3, 25.6, 44.0, 26.6, 29.4, 40.3, 25.0, 34.7, 43.9, 27.0, 29.1] items\n",
      "Resolviendo problema: t60_11, con 60 de items, se espera 20, Any[49.3, 25.1, 25.6, 49.2, 25.1, 25.7, 39.6, 26.8, 33.6, 39.2, 25.6, 35.2, 49.2, 25.3, 25.5, 44.7, 27.0, 28.3, 47.0, 25.2, 27.8, 37.8, 25.3, 36.9, 38.9, 28.0, 33.1, 37.2, 25.8, 37.0, 48.1, 25.3, 26.6, 39.5, 27.8, 32.7, 40.9, 26.8, 32.3, 45.0, 26.6, 28.4, 39.8, 29.5, 30.7, 39.1, 29.6, 31.3, 49.5, 25.2, 25.3, 39.9, 28.8, 31.3, 35.2, 26.7, 38.1, 38.5, 28.4, 33.1] items\n",
      "Resolviendo problema: t60_12, con 60 de items, se espera 20, Any[47.2, 25.4, 27.4, 42.0, 27.6, 30.4, 49.5, 25.1, 25.4, 39.5, 26.8, 33.7, 42.4, 26.7, 30.9, 47.0, 26.0, 27.0, 39.1, 26.8, 34.1, 46.2, 25.2, 28.6, 44.0, 25.6, 30.4, 43.3, 28.1, 28.6, 43.5, 26.6, 29.9, 43.6, 25.0, 31.4, 45.0, 27.1, 27.9, 37.3, 25.5, 37.2, 43.8, 26.1, 30.1, 44.2, 25.6, 30.2, 39.3, 25.5, 35.2, 36.7, 31.2, 32.1, 40.5, 26.6, 32.9, 38.9, 27.2, 33.9] items\n",
      "Resolviendo problema: t60_13, con 60 de items, se espera 20, Any[49.3, 25.3, 25.4, 45.6, 25.8, 28.6, 42.9, 27.8, 29.3, 35.6, 31.7, 32.7, 49.2, 25.1, 25.7, 48.8, 25.1, 26.1, 44.8, 25.6, 29.6, 36.9, 29.1, 34.0, 48.0, 25.8, 26.2, 38.1, 29.6, 32.3, 48.5, 25.6, 25.9, 41.9, 26.4, 31.7, 45.9, 25.4, 28.7, 44.4, 26.0, 29.6, 42.1, 28.0, 29.9, 49.5, 25.0, 25.5, 45.2, 26.7, 28.1, 35.0, 29.7, 35.3, 36.1, 25.3, 38.6, 43.4, 27.8, 28.8] items\n",
      "Resolviendo problema: t60_14, con 60 de items, se espera 20, Any[47.0, 26.0, 27.0, 46.4, 25.8, 27.8, 36.7, 26.6, 36.7, 49.2, 25.1, 25.7, 49.1, 25.2, 25.7, 41.5, 28.2, 30.3, 42.9, 26.0, 31.1, 45.0, 27.3, 27.7, 48.4, 25.4, 26.2, 39.9, 27.4, 32.7, 44.8, 27.0, 28.2, 36.1, 25.0, 38.9, 36.0, 30.0, 34.0, 41.5, 25.1, 33.4, 35.3, 31.1, 33.6, 46.0, 25.9, 28.1, 47.4, 25.4, 27.2, 40.0, 26.4, 33.6, 36.5, 26.9, 36.6, 41.2, 27.9, 30.9] items\n",
      "Resolviendo problema: t60_15, con 60 de items, se espera 20, Any[44.2, 26.7, 29.1, 44.8, 25.2, 30.0, 46.3, 26.6, 27.1, 45.1, 26.1, 28.8, 39.2, 27.9, 32.9, 45.4, 25.8, 28.8, 43.1, 27.3, 29.6, 47.1, 25.5, 27.4, 49.1, 25.2, 25.7, 48.5, 25.3, 26.2, 40.9, 29.2, 29.9, 48.7, 25.2, 26.1, 38.3, 28.1, 33.6, 42.6, 25.1, 32.3, 36.0, 31.2, 32.8, 48.1, 25.6, 26.3, 47.2, 25.4, 27.4, 45.1, 25.0, 29.9, 38.9, 26.4, 34.7, 41.3, 29.1, 29.6] items\n",
      "Resolviendo problema: t60_16, con 60 de items, se espera 20, Any[40.2, 26.4, 33.4, 49.8, 25.0, 25.2, 43.9, 27.9, 28.2, 48.0, 25.1, 26.9, 40.2, 28.4, 31.4, 43.2, 25.3, 31.5, 42.9, 27.5, 29.6, 38.2, 26.4, 35.4, 49.2, 25.3, 25.5, 45.0, 27.0, 28.0, 43.6, 25.6, 30.8, 41.2, 27.4, 31.4, 48.2, 25.5, 26.3, 47.8, 25.8, 26.4, 45.5, 26.6, 27.9, 48.1, 25.2, 26.7, 49.7, 25.0, 25.3, 44.4, 27.4, 28.2, 43.2, 26.8, 30.0, 40.8, 26.3, 32.9] items\n",
      "Resolviendo problema: t60_17, con 60 de items, se espera 20, Any[46.7, 25.5, 27.8, 42.2, 26.9, 30.9, 45.3, 26.8, 27.9, 41.1, 25.6, 33.3, 43.6, 27.0, 29.4, 45.5, 25.1, 29.4, 48.9, 25.3, 25.8, 49.5, 25.0, 25.5, 39.4, 25.1, 35.5, 49.6, 25.0, 25.4, 40.6, 29.2, 30.2, 43.7, 27.8, 28.5, 45.9, 26.2, 27.9, 46.9, 26.4, 26.7, 47.8, 25.8, 26.4, 42.8, 26.6, 30.6, 49.2, 25.1, 25.7, 40.3, 25.5, 34.2, 42.5, 28.5, 29.0, 45.9, 26.0, 28.1] items\n",
      "Resolviendo problema: t60_18, con 60 de items, se espera 20, Any[49.5, 25.0, 25.5, 37.3, 29.6, 33.1, 36.6, 25.4, 38.0, 47.1, 25.2, 27.7, 42.0, 25.6, 32.4, 43.4, 27.5, 29.1, 43.9, 27.1, 29.0, 37.7, 25.3, 37.0, 44.3, 27.6, 28.1, 42.4, 26.1, 31.5, 35.2, 29.0, 35.8, 46.6, 26.1, 27.3, 39.9, 25.4, 34.7, 38.5, 27.8, 33.7, 37.7, 30.4, 31.9, 49.3, 25.1, 25.6, 49.2, 25.3, 25.5, 45.3, 25.2, 29.5, 47.9, 25.1, 27.0, 36.4, 27.5, 36.1] items\n",
      "Resolviendo problema: t60_19, con 60 de items, se espera 20, Any[36.1, 25.7, 38.2, 39.1, 25.9, 35.0, 39.5, 26.3, 34.2, 42.7, 25.7, 31.6, 45.9, 25.5, 28.6, 36.7, 27.0, 36.3, 46.0, 26.7, 27.3, 45.9, 25.9, 28.2, 49.3, 25.3, 25.4, 46.0, 25.3, 28.7, 36.6, 29.2, 34.2, 47.0, 25.4, 27.6, 40.5, 25.2, 34.3, 49.9, 25.0, 25.1, 48.8, 25.1, 26.1, 38.4, 25.8, 35.8, 40.7, 28.8, 30.5, 41.5, 26.1, 32.4, 42.3, 27.9, 29.8, 36.8, 30.3, 32.9] items\n"
     ]
    }
   ],
   "source": [
    "function process_and_solve__problem(problems)\n",
    "    (problem_id, bin_capacity, num_items, best_known_solution, items) = problems[1]\n",
    "    println(\"Resolviendo problema: $problem_id, con $num_items items, se espera solución óptima: $best_known_solution\")\n",
    "    num_bins_used = bin_packing_cbc(bin_capacity, items)\n",
    "    println(\"Número de contenedores utilizados: $num_bins_used\")\n",
    "    println(\"Solución conocida óptima/best: $best_known_solution\")\n",
    "end\n",
    "\n",
    "problems = describe_problems(\"./instances/binpack5.txt\")\n",
    "process_and_solve__problem(problems)"
   ]
  },
  {
   "cell_type": "code",
   "execution_count": null,
   "metadata": {},
   "outputs": [],
   "source": []
  }
 ],
 "metadata": {
  "kernelspec": {
   "display_name": "Julia 1.10.2",
   "language": "julia",
   "name": "julia-1.10"
  },
  "language_info": {
   "file_extension": ".jl",
   "mimetype": "application/julia",
   "name": "julia",
   "version": "1.10.2"
  }
 },
 "nbformat": 4,
 "nbformat_minor": 2
}
